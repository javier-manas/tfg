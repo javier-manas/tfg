{
  "nbformat": 4,
  "nbformat_minor": 0,
  "metadata": {
    "colab": {
      "provenance": [],
      "authorship_tag": "ABX9TyP8BbDBuSpLewiv4vw2wSkc",
      "include_colab_link": true
    },
    "kernelspec": {
      "name": "python3",
      "display_name": "Python 3"
    },
    "language_info": {
      "name": "python"
    }
  },
  "cells": [
    {
      "cell_type": "markdown",
      "metadata": {
        "id": "view-in-github",
        "colab_type": "text"
      },
      "source": [
        "<a href=\"https://colab.research.google.com/github/javier-manas/tfg/blob/main/RobertaBert.ipynb\" target=\"_parent\"><img src=\"https://colab.research.google.com/assets/colab-badge.svg\" alt=\"Open In Colab\"/></a>"
      ]
    },
    {
      "cell_type": "code",
      "execution_count": null,
      "metadata": {
        "colab": {
          "base_uri": "https://localhost:8080/"
        },
        "id": "-TuHBAKzTuBo",
        "outputId": "04eef312-ca64-46c2-f44c-43cd71d9ee28"
      },
      "outputs": [
        {
          "output_type": "stream",
          "name": "stdout",
          "text": [
            "Looking in indexes: https://pypi.org/simple, https://us-python.pkg.dev/colab-wheels/public/simple/\n",
            "Requirement already satisfied: transformers in /usr/local/lib/python3.9/dist-packages (4.27.4)\n",
            "Requirement already satisfied: packaging>=20.0 in /usr/local/lib/python3.9/dist-packages (from transformers) (23.0)\n",
            "Requirement already satisfied: tqdm>=4.27 in /usr/local/lib/python3.9/dist-packages (from transformers) (4.65.0)\n",
            "Requirement already satisfied: filelock in /usr/local/lib/python3.9/dist-packages (from transformers) (3.10.7)\n",
            "Requirement already satisfied: tokenizers!=0.11.3,<0.14,>=0.11.1 in /usr/local/lib/python3.9/dist-packages (from transformers) (0.13.3)\n",
            "Requirement already satisfied: numpy>=1.17 in /usr/local/lib/python3.9/dist-packages (from transformers) (1.22.4)\n",
            "Requirement already satisfied: requests in /usr/local/lib/python3.9/dist-packages (from transformers) (2.27.1)\n",
            "Requirement already satisfied: huggingface-hub<1.0,>=0.11.0 in /usr/local/lib/python3.9/dist-packages (from transformers) (0.13.4)\n",
            "Requirement already satisfied: regex!=2019.12.17 in /usr/local/lib/python3.9/dist-packages (from transformers) (2022.10.31)\n",
            "Requirement already satisfied: pyyaml>=5.1 in /usr/local/lib/python3.9/dist-packages (from transformers) (6.0)\n",
            "Requirement already satisfied: typing-extensions>=3.7.4.3 in /usr/local/lib/python3.9/dist-packages (from huggingface-hub<1.0,>=0.11.0->transformers) (4.5.0)\n",
            "Requirement already satisfied: charset-normalizer~=2.0.0 in /usr/local/lib/python3.9/dist-packages (from requests->transformers) (2.0.12)\n",
            "Requirement already satisfied: idna<4,>=2.5 in /usr/local/lib/python3.9/dist-packages (from requests->transformers) (3.4)\n",
            "Requirement already satisfied: certifi>=2017.4.17 in /usr/local/lib/python3.9/dist-packages (from requests->transformers) (2022.12.7)\n",
            "Requirement already satisfied: urllib3<1.27,>=1.21.1 in /usr/local/lib/python3.9/dist-packages (from requests->transformers) (1.26.15)\n"
          ]
        }
      ],
      "source": [
        "#instalar librerias y modelos\n",
        "\n",
        "!pip install transformers\n",
        "\n",
        "import re\n",
        "\n",
        "from transformers import pipeline\n",
        "Bclassifier = pipeline(\"text-classification\",model='joeddav/distilbert-base-uncased-go-emotions-student', return_all_scores=True)\n",
        "\n",
        "from transformers import pipeline\n",
        "Rclassifier = pipeline(\"text-classification\", model=\"j-hartmann/emotion-english-distilroberta-base\", return_all_scores=True)"
      ]
    },
    {
      "cell_type": "code",
      "source": [
        "#inicializar las variables comunes como lista frases y las variables total y media de roberta\n",
        "\n",
        "lista_frases = [\"frase number one\", \"the sun is fun\" , \"war is a despicable act from humanity\" , \"i hope i pass my exam, my father will shout me otherwise\"]\n",
        "\n",
        "total= [0.0,0.0,0.0,0.0,0.0,0.0,0.0]\n",
        "media= [0.0,0.0,0.0,0.0,0.0,0.0,0.0]\n"
      ],
      "metadata": {
        "id": "W9LLS5T5ULf2"
      },
      "execution_count": null,
      "outputs": []
    },
    {
      "cell_type": "code",
      "source": [
        "#codigo para obtener los resultados de roberta\n",
        "\n",
        "for i in range(len(lista_frases)):\n",
        "  analizador = Rclassifier(lista_frases[i])\n",
        " \n",
        "  cadena = str(analizador[0])\n",
        "\n",
        "  lista_aux = cadena.split('{')\n",
        "\n",
        "  lista_aux.pop(0)\n",
        "\n",
        "  nuevalista= []\n",
        "\n",
        "  for e in range(len(lista_aux)):\n",
        "      dato = lista_aux[e]\n",
        "      score = dato.split(':')\n",
        "      elemento = score[2]\n",
        "      numero = re.sub(r'[^\\d.]+', '', elemento)\n",
        "      num_float = float(numero)\n",
        "      nuevalista.append(numero)\n",
        "      total[e] = total[e] + num_float\n",
        "\n",
        "  print(\"frase num \" + str(i) + \" : \" + str(lista_frases[i]))\n",
        "\n",
        "  print(\"        anger,                  disgust,                 fear,                     joy,                    neutral,                 sadness,                 surprise.\")\n",
        "\n",
        "  print(nuevalista)\n",
        "\n",
        "  print()\n",
        "\n",
        "for o in range(len(lista_aux)):\n",
        "  media[o] = total[o] / len(lista_frases)\n",
        "\n",
        "print(\"media: \" + str(media))"
      ],
      "metadata": {
        "colab": {
          "base_uri": "https://localhost:8080/"
        },
        "id": "KNmd_YLKUTEW",
        "outputId": "fa09769a-32a3-450e-f10d-b33d31c88426"
      },
      "execution_count": null,
      "outputs": [
        {
          "output_type": "stream",
          "name": "stdout",
          "text": [
            "frase num 0 : frase number one\n",
            "        anger,                  disgust,                 fear,                     joy,                    neutral,                 sadness,                 surprise.\n",
            "['0.029753778129816055', '0.005550127010792494', '0.025933805853128433', '0.02206706814467907', '0.8155918121337891', '0.028023211285471916', '0.07308022677898407']\n",
            "\n",
            "frase num 1 : the sun is fun\n",
            "        anger,                  disgust,                 fear,                     joy,                    neutral,                 sadness,                 surprise.\n",
            "['0.0009547406225465238', '0.0005108577897772193', '0.0002979887940455228', '0.9862558245658875', '0.005151395220309496', '0.003572133369743824', '0.0032571156043559313']\n",
            "\n",
            "frase num 2 : war is a despicable act from humanity\n",
            "        anger,                  disgust,                 fear,                     joy,                    neutral,                 sadness,                 surprise.\n",
            "['0.19379310309886932', '0.7826681733131409', '0.012693125754594803', '0.0006074554403312504', '0.002712604124099016', '0.0059500643983483315', '0.001575406058691442']\n",
            "\n",
            "frase num 3 : i hope i pass my exam, my father will shout me otherwise\n",
            "        anger,                  disgust,                 fear,                     joy,                    neutral,                 sadness,                 surprise.\n",
            "['0.00413538096472621', '0.0002980741555802524', '0.004125102423131466', '0.9718689322471619', '0.008190370164811611', '0.006462402641773224', '0.004919758066534996']\n",
            "\n",
            "media: [0.05715925070398953, 0.1972568080673227, 0.010762505706225056, 0.4951998200995149, 0.2079115454107523, 0.011001952923834324, 0.02070812662714161]\n"
          ]
        }
      ]
    },
    {
      "cell_type": "code",
      "source": [
        "#Codigo para calcular los porcentajes de ant, bee y leech de roberta\n",
        "\n",
        "\"\"\"\n",
        "asignar las tribus en pos de los valores del articulo: Measuring ethical behavior with AI and natural language processing to assess business success\n",
        "\n",
        "peter conclusiones:\n",
        "  anger\n",
        "    ant 0.15\n",
        "    bee 0.22\n",
        "    leech 0.3\n",
        "\n",
        "  fear\n",
        "    a 0.16\n",
        "    b 0.12\n",
        "    l 0.21\n",
        "\n",
        "  hapines\n",
        "    a 0.51\n",
        "    b 0.47\n",
        "    l 0.33\n",
        "\n",
        "  sad\n",
        "    a 0.14\n",
        "    b 0.08\n",
        "    l 0.11\n",
        "\n",
        "mi acercamiento: (son emociones parecidas n cierto sentido)\n",
        "  disgust = arrogance\n",
        "    a 0.45\n",
        "    b 0.57\n",
        "    l 0.61\n",
        "\n",
        "  neutral = fairness\n",
        "    a 0.23\n",
        "    b 0.18\n",
        "    l 0.45\n",
        "  \n",
        "  surpri = intrest\n",
        "    a 0.63\n",
        "    b 0.73\n",
        "    l 0.51\n",
        "\n",
        "\n",
        "\"\"\"\n",
        "\n",
        "\n",
        "ant = 0.0\n",
        "bee = 0.0\n",
        "leech = 0.0\n",
        "\n",
        "ant = ant + abs(0.15 - media[0])\n",
        "bee = bee + abs(0.22 - media[0])\n",
        "leech = leech + abs(0.3 - media[0])\n",
        "\n",
        "ant = ant + abs(0.45 - media[1])\n",
        "bee = bee + abs(0.57 - media[1])\n",
        "leech = leech + abs(0.61 - media[1])\n",
        "\n",
        "ant = ant + abs(0.16 - media[2])\n",
        "bee = bee + abs(0.12 - media[2])\n",
        "leech = leech + abs(0.21 - media[2])\n",
        "\n",
        "ant = ant + abs(0.51 - media[3])\n",
        "bee = bee + abs(0.47 - media[3])\n",
        "leech = leech + abs(0.33 - media[3])\n",
        "\n",
        "ant = ant + abs(0.23 - media[4])\n",
        "bee = bee + abs(0.18 - media[4])\n",
        "leech = leech + abs(0.45 - media[4])\n",
        "\n",
        "ant = ant + abs(0.14 - media[5])\n",
        "bee = bee + abs(0.08 - media[5])\n",
        "leech = leech + abs(0.11 - media[5])\n",
        "\n",
        "ant = ant + abs(0.63 - media[6])\n",
        "bee = bee + abs(0.73 - media[6])\n",
        "leech = leech + abs(0.51 - media[6])\n",
        "\n",
        "print(\"la diferencia de la muestra analizada respecto a la esperada. El resultado ideal seria 0\")\n",
        "print(\"ant: \" + str(ant))\n",
        "print(\"bee: \" + str(bee))\n",
        "print(\"leech: \" + str(leech))\n",
        "\n",
        "print()\n",
        "\n",
        "menor = min(ant, bee, leech)\n",
        "ant = (ant - menor)/3\n",
        "bee = (bee - menor)/3\n",
        "leech = (leech - menor)/3\n",
        "\n",
        "Pant = 0.33 - ant + bee + leech\n",
        "Pbee = 0.33 - bee + ant + leech\n",
        "Pleech = 0.33 - leech + bee + ant\n",
        "\n",
        "aux = (Pant + Pbee + Pleech) - 1\n",
        "aux = aux/3\n",
        "\n",
        "Pant = Pant - aux\n",
        "Pbee = Pbee - aux\n",
        "Pleech = Pleech - aux\n",
        "\n",
        "print(\"datos preparados pero en float\")\n",
        "print(\"ant: \" + str(Pant))\n",
        "print(\"bee: \" + str(Pbee))\n",
        "print(\"leech: \" + str(Pleech))\n",
        "\n",
        "print()\n",
        "\n",
        "RIant = int(Pant * 100)\n",
        "RIbee = int(Pbee * 100)\n",
        "RIleech = int(Pleech * 100)\n",
        "\n",
        "print()\n",
        "\n",
        "print(\"*****************************************************************************************\")\n",
        "print(\"Segun las frases analizadas por roberta, el usuario es \" + str(RIant) + \"% ant, \" + str(RIbee) + \"% bee y \" + str(RIleech) + \"% leech.\")\n",
        "print(\"*****************************************************************************************\")\n",
        "\n",
        "print()\n",
        "\n"
      ],
      "metadata": {
        "colab": {
          "base_uri": "https://localhost:8080/"
        },
        "id": "aujAtvRaVcy2",
        "outputId": "592f4d28-ad43-4095-db66-55229d46f437"
      },
      "execution_count": null,
      "outputs": [
        {
          "output_type": "stream",
          "name": "stdout",
          "text": [
            "la diferencia de la muestra analizada respecto a la esperada. El resultado ideal seria 0\n",
            "ant: 1.2699999904612196\n",
            "bee: 1.4762227214817538\n",
            "leech: 1.8503996306602493\n",
            "\n",
            "datos preparados pero en float\n",
            "ant: 0.5081383047154586\n",
            "bee: 0.3706564840351025\n",
            "leech: 0.12120521124943888\n",
            "\n",
            "\n",
            "*****************************************************************************************\n",
            "Segun las frases analizadas por roberta, el usuario es 50% ant, 37% bee y 12% leech.\n",
            "*****************************************************************************************\n",
            "\n"
          ]
        }
      ]
    },
    {
      "cell_type": "code",
      "source": [
        "#inicializar las variables de bert\n",
        "\n",
        "total= [0.0,0.0,0.0,0.0,0.0,0.0,0.0,0.0,0.0,0.0,0.0,0.0,0.0,0.0,0.0,0.0,0.0,0.0,0.0,0.0,0.0,0.0,0.0,0.0,0.0,0.0,0.0,0.0]\n",
        "media= [0.0,0.0,0.0,0.0,0.0,0.0,0.0,0.0,0.0,0.0,0.0,0.0,0.0,0.0,0.0,0.0,0.0,0.0,0.0,0.0,0.0,0.0,0.0,0.0,0.0,0.0,0.0,0.0]\n"
      ],
      "metadata": {
        "id": "qRrZRjybWR8f"
      },
      "execution_count": null,
      "outputs": []
    },
    {
      "cell_type": "code",
      "source": [
        "#codigo para obtener los resultados de bert\n",
        "\n",
        "for i in range(len(lista_frases)):\n",
        "  analizador = Bclassifier(lista_frases[i])\n",
        "  \n",
        "  cadena = str(analizador[0])\n",
        "\n",
        "  lista_aux = cadena.split('{')\n",
        "\n",
        "  lista_aux.pop(0)\n",
        "  \n",
        "  nuevalista= []\n",
        "\n",
        "  for e in range(len(lista_aux)):\n",
        "      dato = lista_aux[e]\n",
        "      score = dato.split(':')\n",
        "      elemento = score[2]\n",
        "      numero = re.sub(r'[^\\d.]+', '', elemento)\n",
        "      num_float = float(numero)\n",
        "      nuevalista.append(numero)\n",
        "      total[e] = total[e] + num_float\n",
        "  \n",
        "  print(\"frase num \" + str(i) + \" : \" + str(lista_frases[i]))\n",
        "\n",
        "  print(\"admiration,amusement,anger,annoyance,approval,caring,confusion,curiosity,desire,disappointment,disapproval,disgust,embarrassment,excitement,fear,gratitude,grief,joy,love,nervousness,optimism,pride,realization,relief,remorse,sadness,surprise,neutral\")\n",
        "\n",
        "  print(nuevalista)\n",
        "\n",
        "  print()\n",
        "\n",
        "for o in range(len(lista_aux)):\n",
        "  media[o] = total[o] / len(lista_frases)\n",
        "\n",
        "print(\"media: \" + str(media))"
      ],
      "metadata": {
        "colab": {
          "base_uri": "https://localhost:8080/"
        },
        "id": "OZdnSzsUU6F2",
        "outputId": "cf07b700-dbe6-4922-eded-776dcecb2620"
      },
      "execution_count": null,
      "outputs": [
        {
          "output_type": "stream",
          "name": "stdout",
          "text": [
            "frase num 0 : frase number one\n",
            "admiration,amusement,anger,annoyance,approval,caring,confusion,curiosity,desire,disappointment,disapproval,disgust,embarrassment,excitement,fear,gratitude,grief,joy,love,nervousness,optimism,pride,realization,relief,remorse,sadness,surprise,neutral\n",
            "['0.05124374106526375', '0.05085637792944908', '0.014953291043639183', '0.018603859469294548', '0.09459690749645233', '0.0890703797340393', '0.01320735365152359', '0.05209190398454666', '0.03079434484243393', '0.007220679894089699', '0.010607084259390831', '0.014057469554245472', '0.017519250512123108', '0.06392472982406616', '0.010559460148215294', '0.03150154650211334', '0.012918973341584206', '0.04093707352876663', '0.025574209168553352', '0.01743943616747856', '0.030219266191124916', '0.10765093564987183', '0.08816543221473694', '0.030335383489727974', '0.018093707039952278', '0.007517293095588684', '0.026922104880213737', '0.023417804390192032']\n",
            "\n",
            "frase num 1 : the sun is fun\n",
            "admiration,amusement,anger,annoyance,approval,caring,confusion,curiosity,desire,disappointment,disapproval,disgust,embarrassment,excitement,fear,gratitude,grief,joy,love,nervousness,optimism,pride,realization,relief,remorse,sadness,surprise,neutral\n",
            "['0.019172480329871178', '0.23190636932849884', '0.001856003887951374', '0.0021289833821356297', '0.026294535025954247', '0.023214057087898254', '0.0036008767783641815', '0.04850716143846512', '0.026993058621883392', '0.0011526107555255294', '0.001989539712667465', '0.0011879709782078862', '0.0015040966682136059', '0.198034405708313', '0.0014957163948565722', '0.01186222955584526', '0.0015535668935626745', '0.2129257172346115', '0.008538266643881798', '0.002582868328318', '0.08508114516735077', '0.026457104831933975', '0.016705531626939774', '0.017722323536872864', '0.003015927504748106', '0.0008160399156622589', '0.01621530018746853', '0.007486015558242798']\n",
            "\n",
            "frase num 2 : war is a despicable act from humanity\n",
            "admiration,amusement,anger,annoyance,approval,caring,confusion,curiosity,desire,disappointment,disapproval,disgust,embarrassment,excitement,fear,gratitude,grief,joy,love,nervousness,optimism,pride,realization,relief,remorse,sadness,surprise,neutral\n",
            "['0.004174978472292423', '0.0035145480651408434', '0.041288234293460846', '0.007710091769695282', '0.008052218705415726', '0.007578558288514614', '0.011685734614729881', '0.008525112643837929', '0.013960577547550201', '0.03603261709213257', '0.24988049268722534', '0.2802531123161316', '0.0982055515050888', '0.006538037210702896', '0.019549977034330368', '0.0036029440816491842', '0.03439430519938469', '0.0029683043248951435', '0.0032716961577534676', '0.004850360564887524', '0.003588923020288348', '0.007618703879415989', '0.052422989159822464', '0.004553171340376139', '0.02261420339345932', '0.04333993047475815', '0.014467001892626286', '0.005357678513973951']\n",
            "\n",
            "frase num 3 : i hope i pass my exam, my father will shout me otherwise\n",
            "admiration,amusement,anger,annoyance,approval,caring,confusion,curiosity,desire,disappointment,disapproval,disgust,embarrassment,excitement,fear,gratitude,grief,joy,love,nervousness,optimism,pride,realization,relief,remorse,sadness,surprise,neutral\n",
            "['0.0038019816856831312', '0.004695558454841375', '0.054149724543094635', '0.09040452539920807', '0.00721684331074357', '0.017435932531952858', '0.038200899958610535', '0.014081237837672234', '0.07599461823701859', '0.04788772389292717', '0.21775387227535248', '0.0365716814994812', '0.050360631197690964', '0.014821343123912811', '0.0601557120680809', '0.006593155674636364', '0.02013346552848816', '0.003038855269551277', '0.002976450137794018', '0.062310684472322464', '0.009221334010362625', '0.010669326409697533', '0.02532021701335907', '0.005832897033542395', '0.06216619536280632', '0.033554840832948685', '0.018422825261950493', '0.006227571051567793']\n",
            "\n",
            "media: [0.01959829538827762, 0.07274321344448254, 0.02806181344203651, 0.029711865005083382, 0.03404012613464147, 0.03432473191060126, 0.016673716250807047, 0.030801353976130486, 0.03693564981222153, 0.02307340790866874, 0.12005774723365903, 0.08301755858701654, 0.04189738247077912, 0.07082962896674871, 0.022940216411370784, 0.013389968953561038, 0.017250077740754932, 0.06496748758945614, 0.010090155526995659, 0.021795837383251637, 0.032027667097281665, 0.03809901769272983, 0.04565354250371456, 0.014610943850129843, 0.026472508325241506, 0.021307026079739444, 0.01900680805556476, 0.010622267378494143]\n"
          ]
        }
      ]
    },
    {
      "cell_type": "code",
      "source": [
        "#convertir la media enorme en una media de 7 valores agrupando las emociones parecidas para bert\n",
        "\n",
        "\"\"\"\n",
        "anger = anger[2] annoyance[3] \n",
        "\n",
        "arrogance = annoyance[3] disgust[11] embarrassment[12] pride{20}\n",
        "\n",
        "fear = confussion[6] disapointment[9] fear[14] nervousness[19]\n",
        "\n",
        "joy = amusement[1] aproval[4] caring[5] excitement[13] joy[17] optimism[19] realization{21} relief{22}\n",
        "\n",
        "fairness = aproval[4] disaproval[10] gratitude[15] neutral[26]\n",
        "\n",
        "sadnes = disapointment[9] disaproval[10] embarrassment[12] grief[16] remorse{23} sadness{24}\n",
        "\n",
        "interest = admiration[0] caring[5] curiosity[7] desire[8] excitement[13] love[18] surprise{25}\n",
        "\n",
        "\"\"\"\n",
        "\n",
        "Nmedia = [0.0,0.0,0.0,0.0,0.0,0.0,0.0]\n",
        "\n",
        "Nmedia[0] = (media[2] + media[3]) / 2\n",
        "Nmedia[1] = (media[3] + media[11] + media[12] + media[20]) / 4\n",
        "Nmedia[2] = (media[6] + media[9] + media[14] + media[19]) / 4\n",
        "Nmedia[3] = (media[1] + media[4] + media[5] + media[13] + media[17] + media[19] + media[21] + media[22]) / 8\n",
        "Nmedia[4] = (media[4] + media[10] + media[15] + media[26]) / 4\n",
        "Nmedia[5] = (media[9] + media[10] + media[12] + media[16] + media[23] + media[24]) / 6\n",
        "Nmedia[6] = (media[0] + media[5] + media[7] + media[8] + media[13] + media[18] + media[25]) / 7"
      ],
      "metadata": {
        "id": "D7xpaL4VVy7G"
      },
      "execution_count": null,
      "outputs": []
    },
    {
      "cell_type": "code",
      "source": [
        "#codigo para obtener ant, bee y leech segun bert\n",
        "\n",
        "ant = 0.0\n",
        "bee = 0.0\n",
        "leech = 0.0\n",
        "\n",
        "ant = ant + abs(0.15 - Nmedia[0])\n",
        "bee = bee + abs(0.22 - Nmedia[0])\n",
        "leech = leech + abs(0.3 - Nmedia[0])\n",
        "\n",
        "ant = ant + abs(0.45 - Nmedia[1])\n",
        "bee = bee + abs(0.57 - Nmedia[1])\n",
        "leech = leech + abs(0.61 - Nmedia[1])\n",
        "\n",
        "ant = ant + abs(0.16 - Nmedia[2])\n",
        "bee = bee + abs(0.12 - Nmedia[2])\n",
        "leech = leech + abs(0.21 - Nmedia[2])\n",
        "\n",
        "ant = ant + abs(0.51 - Nmedia[3])\n",
        "bee = bee + abs(0.47 - Nmedia[3])\n",
        "leech = leech + abs(0.33 - Nmedia[3])\n",
        "\n",
        "ant = ant + abs(0.23 - Nmedia[4])\n",
        "bee = bee + abs(0.18 - Nmedia[4])\n",
        "leech = leech + abs(0.45 - Nmedia[4])\n",
        "\n",
        "ant = ant + abs(0.14 - Nmedia[5])\n",
        "bee = bee + abs(0.08 - Nmedia[5])\n",
        "leech = leech + abs(0.11 - Nmedia[5])\n",
        "\n",
        "ant = ant + abs(0.63 - Nmedia[6])\n",
        "bee = bee + abs(0.73 - Nmedia[6])\n",
        "leech = leech + abs(0.51 - Nmedia[6])\n",
        "\n",
        "print(\"la diferencia de la muestra analizada respecto a la esperada. El resultado ideal seria 0\")\n",
        "print(\"ant: \" + str(ant))\n",
        "print(\"bee: \" + str(bee))\n",
        "print(\"leech: \" + str(leech))\n",
        "\n",
        "print()\n",
        "\n",
        "menor = min(ant, bee, leech)\n",
        "ant = (ant - menor)/3\n",
        "bee = (bee - menor)/3\n",
        "leech = (leech - menor)/3\n",
        "\n",
        "Pant = 0.33 - ant + bee + leech\n",
        "Pbee = 0.33 - bee + ant + leech\n",
        "Pleech = 0.33 - leech + bee + ant\n",
        "\n",
        "aux = (Pant + Pbee + Pleech) - 1\n",
        "aux = aux/3\n",
        "\n",
        "Pant = Pant - aux\n",
        "Pbee = Pbee - aux\n",
        "Pleech = Pleech - aux\n",
        "\n",
        "print(\"datos preparados pero en float\")\n",
        "print(\"ant: \" + str(Pant))\n",
        "print(\"bee: \" + str(Pbee))\n",
        "print(\"leech: \" + str(Pleech))\n",
        "\n",
        "print()\n",
        "\n",
        "BIant = int(Pant * 100)\n",
        "BIbee = int(Pbee * 100)\n",
        "BIleech = int(Pleech * 100)\n",
        "\n",
        "print()\n",
        "\n",
        "print(\"**********************************************************************************\")\n",
        "print(\"Segun las frases analizadas por bert, el usuario es \" + str(BIant) + \"% ant, \" + str(BIbee) + \"% bee y \" + str(BIleech) + \"% leech.\")\n",
        "print(\"**********************************************************************************\")\n",
        "\n",
        "print()\n"
      ],
      "metadata": {
        "colab": {
          "base_uri": "https://localhost:8080/"
        },
        "id": "lHx5GYUZWnsf",
        "outputId": "851cfe8e-7c5d-4244-9938-606a12ca888f"
      },
      "execution_count": null,
      "outputs": [
        {
          "output_type": "stream",
          "name": "stdout",
          "text": [
            "la diferencia de la muestra analizada respecto a la esperada. El resultado ideal seria 0\n",
            "ant: 2.0063542080891508\n",
            "bee: 2.1063542080891504\n",
            "leech: 2.2563542080891508\n",
            "\n",
            "datos preparados pero en float\n",
            "ant: 0.41111111111111104\n",
            "bee: 0.3444444444444446\n",
            "leech: 0.24444444444444444\n",
            "\n",
            "\n",
            "**********************************************************************************\n",
            "Segun las frases analizadas por bert, el usuario es 41% ant, 34% bee y 24% leech.\n",
            "**********************************************************************************\n",
            "\n"
          ]
        }
      ]
    },
    {
      "cell_type": "code",
      "source": [
        "#codigo para unir ambas conclusiones\n",
        "\n",
        "Iant = (RIant + BIant) / 2 \n",
        "Ibee = (RIbee + BIbee) / 2 \n",
        "Ileech = (RIleech + BIleech) / 2 \n",
        "\n",
        "print()\n",
        "\n",
        "print(\"****************************************************************************************************************\")\n",
        "print(\"Segun las frases analizadas por ambos bert y roberta, el usuario es \" + str(Iant) + \"% ant, \" + str(Ibee) + \"% bee y \" + str(Ileech) + \"% leech.\")\n",
        "print(\"****************************************************************************************************************\")\n",
        "\n",
        "print()"
      ],
      "metadata": {
        "colab": {
          "base_uri": "https://localhost:8080/"
        },
        "id": "EVbNDiKAW3B-",
        "outputId": "92660b3b-8b97-46a8-bc7e-6c200bf0b8fd"
      },
      "execution_count": null,
      "outputs": [
        {
          "output_type": "stream",
          "name": "stdout",
          "text": [
            "\n",
            "****************************************************************************************************************\n",
            "Segun las frases analizadas por ambos bert y roberta, el usuario es 45.5% ant, 35.5% bee y 18.0% leech.\n",
            "****************************************************************************************************************\n",
            "\n"
          ]
        }
      ]
    }
  ]
}